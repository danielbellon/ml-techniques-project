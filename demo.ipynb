{
 "cells": [
  {
   "cell_type": "code",
   "execution_count": 2,
   "metadata": {},
   "outputs": [],
   "source": [
    "import numpy as np\n",
    "import gradio as gr\n",
    "import cv2\n",
    "import tensorflow as tf\n",
    "import matplotlib.pyplot as plt\n",
    "import matplotlib.patches as patches\n"
   ]
  },
  {
   "cell_type": "code",
   "execution_count": 3,
   "metadata": {},
   "outputs": [],
   "source": [
    "def model(input_img):\n",
    "    image = cv2.resize(input_img, dsize=(180, 180))\n",
    "\n",
    "    model = tf.keras.models.load_model('exported_model.h5')\n",
    "    bounding_box, class_pred = model.predict(np.expand_dims(image / 255., axis=0))\n",
    "\n",
    "    fig = plt.figure()\n",
    "    ax = plt.gca()\n",
    "\n",
    "    startX, startY, endX, endY = bounding_box[0]\n",
    "\n",
    "    top = startY\n",
    "    left = startX\n",
    "    width = endX - startX\n",
    "    height = endY - startY\n",
    "\n",
    "    top *= 180\n",
    "    height *= 180\n",
    "    left *= 180\n",
    "    width *= 180\n",
    "\n",
    "    rect = patches.Rectangle((left, top), width, height, linewidth=1, edgecolor='r', facecolor='none')\n",
    "    ax.add_patch(rect)\n",
    "\n",
    "    plt.imshow(image)\n",
    "    ax.axis('off')\n",
    "\n",
    "    return np.argmax(class_pred), fig"
   ]
  },
  {
   "cell_type": "code",
   "execution_count": 4,
   "metadata": {},
   "outputs": [
    {
     "name": "stdout",
     "output_type": "stream",
     "text": [
      "Running on local URL:  http://127.0.0.1:7860\n",
      "Running on public URL: https://4989441110ee350f.gradio.app\n",
      "\n",
      "This share link expires in 72 hours. For free permanent hosting and GPU upgrades (NEW!), check out Spaces: https://huggingface.co/spaces\n"
     ]
    },
    {
     "data": {
      "text/plain": "<IPython.core.display.HTML object>",
      "text/html": "<div><iframe src=\"https://4989441110ee350f.gradio.app\" width=\"100%\" height=\"500\" allow=\"autoplay; camera; microphone; clipboard-read; clipboard-write;\" frameborder=\"0\" allowfullscreen></iframe></div>"
     },
     "metadata": {},
     "output_type": "display_data"
    },
    {
     "data": {
      "text/plain": ""
     },
     "execution_count": 4,
     "metadata": {},
     "output_type": "execute_result"
    }
   ],
   "source": [
    "with gr.Blocks() as demo:\n",
    "    image = gr.Image()\n",
    "    gr.Examples([\"./test/1.png\", \"./test/39.png\"], inputs=image)\n",
    "    digit = gr.Textbox(label=\"Dígito identificado\")\n",
    "    bbox = gr.Plot(label=\"Localización del dígito\")\n",
    "    pred_btn = gr.Button(\"Predicción\")\n",
    "    pred_btn.click(fn=model, inputs=image, outputs=[digit, bbox])\n",
    "\n",
    "demo.launch(share=True)"
   ]
  },
  {
   "cell_type": "code",
   "execution_count": null,
   "metadata": {},
   "outputs": [],
   "source": []
  }
 ],
 "metadata": {
  "kernelspec": {
   "display_name": "Python 3.10.8 ('env': venv)",
   "language": "python",
   "name": "python3"
  },
  "language_info": {
   "codemirror_mode": {
    "name": "ipython",
    "version": 3
   },
   "file_extension": ".py",
   "mimetype": "text/x-python",
   "name": "python",
   "nbconvert_exporter": "python",
   "pygments_lexer": "ipython3",
   "version": "3.10.8"
  },
  "orig_nbformat": 4,
  "vscode": {
   "interpreter": {
    "hash": "0686e6cf94abbe43e8a7895b44982613bfb801bd202c741b646291637208f550"
   }
  }
 },
 "nbformat": 4,
 "nbformat_minor": 2
}
